{
  "nbformat": 4,
  "nbformat_minor": 0,
  "metadata": {
    "colab": {
      "provenance": []
    },
    "kernelspec": {
      "name": "python3",
      "display_name": "Python 3"
    },
    "language_info": {
      "name": "python"
    }
  },
  "cells": [
    {
      "cell_type": "markdown",
      "source": [
        "#OOPS Assignment"
      ],
      "metadata": {
        "id": "j5NotmAH6Fm7"
      }
    },
    {
      "cell_type": "markdown",
      "source": [
        "1. What is Object-Oriented Programming(OOP)?\n",
        "  >* Object-Oriented Programming (OOP) is a way of writing code using \"objects\" that represent real-world things. Each object has data (called attributes) and actions (called methods). OOP makes programs easier to manage by organizing code into reusable parts, helping with structure, maintenance, and problem-solving.\n"
      ],
      "metadata": {
        "id": "gNu6-Q5c6MHj"
      }
    },
    {
      "cell_type": "markdown",
      "source": [
        "2. What is a class in OOP?\n",
        "  >* A class in OOP is a blueprint for creating objects. It defines the structure and behavior of something, like its properties (data) and actions (methods). You can think of a class like a recipe—once it's written, you can use it to make many objects with the same setup.\n"
      ],
      "metadata": {
        "id": "uMzXt74a_ah6"
      }
    },
    {
      "cell_type": "markdown",
      "source": [
        "3. What is an object in OOP?\n",
        "  >* An object in OOP is a specific instance created from a class. It contains real values for the properties defined in the class and can perform actions using its methods. Think of a class as a blueprint, and an object as the real thing built from it.\n",
        "  * For example, a \"Car\" class can create many car objects with different features.\n"
      ],
      "metadata": {
        "id": "NGj_RdosBFng"
      }
    },
    {
      "cell_type": "markdown",
      "source": [
        "4. What is the difference between abstraction and encapsulation?\n",
        "  >* Abstraction and encapsulation are both OOP concepts.\n",
        "  * Abstraction hides complex details and shows only the important parts, like using a TV without knowing how it works inside.and\n",
        "  * Encapsulation wraps data and code together and hides it from outside access, like keeping TV parts inside the box. Abstraction simplifies use; encapsulation protects data and controls how it’s accessed or changed.\n"
      ],
      "metadata": {
        "id": "6LtWTLukBgsa"
      }
    },
    {
      "cell_type": "markdown",
      "source": [
        "5. What are Dunder methods in Python?\n",
        "  >* Dunder methods in Python are special methods with double underscores before and after their names (like `__init__`, `__str__`). “Dunder” stands for “double underscore.” These methods let you define how objects of a class behave with built-in functions or operators.\n",
        "  * For example, `__init__` sets up a new object, and `__add__` lets you use `+` with objects. They help make classes work more like built-in Python types.\n"
      ],
      "metadata": {
        "id": "ewWkq7RcCITp"
      }
    },
    {
      "cell_type": "markdown",
      "source": [
        "6. Explain the concept of inhertance in OOP?\n",
        "  >* Inheritance in OOP means one class (called a child or subclass) can use the features of another class (called a parent or superclass). It lets the child class inherit methods and properties from the parent, so you don’t have to rewrite code. The child can also add its own features or change the inherited ones.\n",
        "  * For example, a “Dog” class can inherit from an “Animal” class and still have its own unique actions.\n"
      ],
      "metadata": {
        "id": "5Kbg70tpCqy-"
      }
    },
    {
      "cell_type": "markdown",
      "source": [
        "7. What is polymorphism in OOP?\n",
        "  >* Polymorphism in OOP means “many forms.” It lets different classes use the same method name, but each class can do something different with it.\n",
        "  * For example, if many classes have a method called `speak()`, a Dog class’s `speak()` might bark, while a Cat class’s `speak()` might meow.\n",
        "  * This makes code flexible and easier to work with, since you can write one piece of code that works with objects from different classes in their own way.\n"
      ],
      "metadata": {
        "id": "Emuant0rDOl5"
      }
    },
    {
      "cell_type": "markdown",
      "source": [
        "8. How is encapsulation achieved in Python?\n",
        "  >* Encapsulation in Python is achieved by keeping data (variables) and methods (functions) inside a class and hiding them from outside access. You can make a variable private by adding an underscore `_` or double underscore `__` before its name.\n",
        "  * This signals that it shouldn’t be accessed directly. Instead, you use getter and setter methods to read or change the value.\n",
        "  * This protects the data and controls how it is used or changed from outside the class.\n"
      ],
      "metadata": {
        "id": "iVLU7D7sD1g1"
      }
    },
    {
      "cell_type": "markdown",
      "source": [
        "9. What is a constructor in Python?\n",
        "  >* A constructor in Python is a special method called `__init__` that is automatically called when a new object is created.\n",
        "  * It helps set up the initial values of the object’s attributes.\n",
        "  * For example, when you create a new \"Car\" object, the constructor can assign values like color or model. It's like a setup process that runs as soon as an object is created from a class.\n"
      ],
      "metadata": {
        "id": "tAZfx9IXEaLQ"
      }
    },
    {
      "cell_type": "markdown",
      "source": [
        "10. What are class and static methods in Pyhton?\n",
        "  >* In Python, a **class method** is a method that works with the class itself, not individual objects. It’s defined using `@classmethod` and takes `cls` as the first argument.\n",
        "  * A **static method** doesn’t require access to the class or object, and it's defined with `@staticmethod`. It behaves like a regular function, but belongs to the class. Both methods are used to organize code inside the class.\n"
      ],
      "metadata": {
        "id": "RTkF8yMZE1_f"
      }
    },
    {
      "cell_type": "markdown",
      "source": [
        "11. What is method overloading in Python?\n",
        "  >* Method overloading in Python allows you to define multiple methods with the same name but different parameters. However, Python doesn’t directly support traditional method overloading like other languages. Instead, you can achieve similar behavior by using default arguments or variable-length arguments (`*args` or `**kwargs`) in a single method, letting it handle different types or numbers of inputs.\n"
      ],
      "metadata": {
        "id": "J-Tb6l-hFfO2"
      }
    },
    {
      "cell_type": "markdown",
      "source": [
        "12. What is method overriding in OOP?\n",
        "  >* Method overriding in OOP occurs when a subclass provides its own implementation of a method that is already defined in its parent class.\n",
        "  * The method in the subclass has the same name, parameters, and behavior as the parent’s method, but it can perform a different task. This allows a subclass to modify or extend the behavior of inherited methods.\n"
      ],
      "metadata": {
        "id": "Q4APkHWiF4bq"
      }
    },
    {
      "cell_type": "markdown",
      "source": [
        "13. What is a property decorator in Pyhton?\n",
        "  >* In Python, the **property decorator** (`@property`) is used to define a method as a property, allowing it to be accessed like an attribute.\n",
        "  * It enables you to control how an attribute is accessed or modified without changing the syntax.\n",
        "  * It’s useful for adding getter, setter, and deleter methods for class attributes.\n"
      ],
      "metadata": {
        "id": "3asUi91iGJa7"
      }
    },
    {
      "cell_type": "markdown",
      "source": [
        "14. Why is polymorphism important in OOP?\n",
        "  >* Polymorphism is important in OOP because it allows different classes to be treated as if they were the same type through a shared interface. This makes code more flexible, reusable, and easier to maintain.\n",
        "  * You can write functions or use objects that work with many types, making programs simpler and reducing the need for repeated code.\n"
      ],
      "metadata": {
        "id": "70DcPC9fGna_"
      }
    },
    {
      "cell_type": "markdown",
      "source": [
        "15. What is an abstract class in python ?\n",
        "  >* An abstract class in Python is a class that cannot be directly instantiated and is meant to be a base for other classes. It can have abstract methods—methods declared but not implemented.\n",
        "  * These must be defined in child classes. Abstract classes are created using the `abc` module and the `@abstractmethod` decorator. They help enforce a structure for subclasses to follow.\n"
      ],
      "metadata": {
        "id": "Zf2-m4sblKi_"
      }
    },
    {
      "cell_type": "markdown",
      "source": [
        "16. What are the advantages of OOP?\n",
        "  >* Object-Oriented Programming (OOP) offers several advantages.\n",
        "  * It helps organize code using classes and objects, making it easier to understand and manage.\n",
        "  * OOP promotes **code reusability** through inheritance, **data protection** through encapsulation, and **flexibility** through polymorphism.\n",
        "  * It also improves **code maintenance** by separating responsibilities. Overall, OOP makes complex programs easier to build, test, modify, and scale by keeping the code modular and organized.\n"
      ],
      "metadata": {
        "id": "2fB4xbCWlhoO"
      }
    },
    {
      "cell_type": "markdown",
      "source": [
        "17. What is the diffference between a class variable and an instance variable?\n",
        "  >* The difference between a class variable and an instance variable is as follows:\n",
        "\n",
        "### **Class Variable**\n",
        "\n",
        "* Defined directly inside the class.\n",
        "* Shared by all instances of the class.\n",
        "* Changing it affects all objects.\n",
        "* Used for values common to every object.\n",
        "* Accessed using the class name or instance name.\n",
        "\n",
        "### **Instance Variable**\n",
        "\n",
        "* Defined inside methods (usually `__init__`).\n",
        "* Unique to each object.\n",
        "* Changing it affects only that specific object.\n",
        "* Used for values that vary between objects.\n",
        "* Accessed using the instance (object) name.\n"
      ],
      "metadata": {
        "id": "QRvn4jmsl8kD"
      }
    },
    {
      "cell_type": "markdown",
      "source": [
        "18. What is multiple inhertance in Pyhton?\n",
        "  >* Multiple inheritance in Python means a class can inherit features (methods and properties) from more than one parent class. This allows the child class to combine behaviors from multiple sources.\n",
        "  * It’s useful when a class needs to share functions from different classes. Python handles this using the **Method Resolution Order (MRO)** to decide the order in which parent classes are accessed.\n"
      ],
      "metadata": {
        "id": "R22fbNwanJIl"
      }
    },
    {
      "cell_type": "markdown",
      "source": [
        "19. Explain the purpose of \"__str__'and __repr__\" method in Pyhton?\n",
        "  >* The purpose  of `__str__` and `__repr__` is as follows:\n",
        "\n",
        "### `__str__`:\n",
        "\n",
        "* This method defines what you see when you print an object.\n",
        "* It gives a clean, easy-to-read message for users.\n",
        "* Example: If you print a car object, it might show: `\"This is a Toyota car.\"`\n",
        "\n",
        "### `__repr__`:\n",
        "\n",
        "* This method is for developers.\n",
        "* It shows a detailed string that helps with debugging.\n",
        "* It often looks like the code used to create the object.\n",
        "\n",
        "### In summary:\n",
        "\n",
        "* `__str__` → is used for humans (nice and readable).\n",
        "* `__repr__` → is used for programmers (more detail for debugging).\n",
        "\n"
      ],
      "metadata": {
        "id": "BR5eLnmBpCU2"
      }
    },
    {
      "cell_type": "markdown",
      "source": [
        "20. What is the significance of the 'super()' function in Python?\n",
        "  >* The super() function in Python is used to call methods from a parent (or superclass) in a child (or subclass). It’s especially useful when you want to reuse code from the parent class without directly naming it.\n",
        "  * It’s often used in the __init__ method to set up the parent class before adding extra features in the child class.\n",
        "  * Helps avoid repeating code and supports multiple inheritance."
      ],
      "metadata": {
        "id": "iF9uGz44q8nh"
      }
    },
    {
      "cell_type": "markdown",
      "source": [
        "21. What is the significance of the __del__method in Python?\n",
        "  >* The `__del__` method in Python is a special method called a **destructor**. It is automatically called when an object is about to be deleted or destroyed. I\n",
        "  * ts main purpose is to clean up resources, like closing files or releasing memory. However, it's used rarely because Python’s garbage collector usually handles memory cleanup on its own.\n"
      ],
      "metadata": {
        "id": "zPuRV8BsrmW-"
      }
    },
    {
      "cell_type": "markdown",
      "source": [
        "22. What is the difference between @staticmethod and @classmethod in Pyhton?\n",
        "  >* The difference between `@staticmethod` and `@classmethod` in Python lies in how they interact with the class and instance:\n",
        "\n",
        "* **`@staticmethod`**:\n",
        "It doesn’t take `self` or `cls` as the first argument.\n",
        "It behaves like a regular function but is part of the class.\n",
        "It can’t modify the class or instance.\n",
        "\n",
        "* **`@classmethod`**:\n",
        "It takes `cls` as the first argument, referring to the class itself.\n",
        "It can modify the class state and is often used for factory methods or operations related to the class, not instances.\n"
      ],
      "metadata": {
        "id": "jEhOhSddr8ok"
      }
    },
    {
      "cell_type": "markdown",
      "source": [
        "23. How does polymorphism work in Pyhton with inheritance?\n",
        "  >* In Python, polymorphism works with inheritance by allowing subclasses to define their own versions of methods inherited from a parent class. When a method with the same name is called on objects of different subclasses, each subclass can implement its own behavior for that method. This enables the same method name to behave differently depending on the object’s class, making the code more flexible and reusable.\n",
        "\n",
        "### Example:\n",
        "\n",
        "```python\n",
        "class Animal:\n",
        "    def speak(self):\n",
        "        print(\"Animal speaks\")\n",
        "\n",
        "class Dog(Animal):\n",
        "    def speak(self):\n",
        "        print(\"Bark\")\n",
        "\n",
        "class Cat(Animal):\n",
        "    def speak(self):\n",
        "        print(\"Meow\")\n",
        "\n",
        "# Polymorphism in action\n",
        "animals = [Dog(), Cat()]\n",
        "for animal in animals:\n",
        "    animal.speak()  # Calls the respective speak() method for each subclass\n",
        "```\n"
      ],
      "metadata": {
        "id": "AoJlG2pOusCi"
      }
    },
    {
      "cell_type": "markdown",
      "source": [
        "24. What is method chaining in Pyhton OOP?\n",
        "  >* Method chaining in Python OOP is the technique where multiple methods are called on the same object in a single line of code.\n",
        "  * Each method returns the object itself, allowing you to chain another method after it. This is commonly used to make code more concise and readable.\n",
        "\n",
        "  ##Example:-\n",
        "  class Car:\n",
        "    def start(self):\n",
        "        print(\"Car started\")\n",
        "        return self\n",
        "    \n",
        "    def drive(self):\n",
        "        print(\"Car is driving\")\n",
        "        return self\n",
        "    \n",
        "car = Car()\n",
        "car.start().drive()  # Method chaining\n"
      ],
      "metadata": {
        "id": "yM1XbltmvVbZ"
      }
    },
    {
      "cell_type": "markdown",
      "source": [
        "25. What is the purpose of the __call__ method in Python?\n",
        "  >* The __call__ method in Python allows an object to be called like a function. When you define __call__ in a class, you can use the object’s name followed by parentheses, just like calling a regular function. This makes objects behave like functions, which can be useful for things like configuration, callbacks, or creating flexible APIs.\n"
      ],
      "metadata": {
        "id": "HY403RhUxD5J"
      }
    },
    {
      "cell_type": "markdown",
      "source": [
        "## Practical Questions:-"
      ],
      "metadata": {
        "id": "dlMg5d0lxgcA"
      }
    },
    {
      "cell_type": "code",
      "source": [
        "#1. Create a parent class Animal with a method speak() that prints a generic message.Create a child class Dog that overrides the speak()method to print \"Bark!\"\n",
        "\n",
        "class Animal:\n",
        "  def speak(self):\n",
        "    print(\"Animal speaks\")\n",
        "\n",
        "class Dog(Animal):\n",
        "  def speak(self):\n",
        "    print(\"Bark!\")\n",
        "\n",
        "dog = Dog()\n",
        "dog.speak()"
      ],
      "metadata": {
        "colab": {
          "base_uri": "https://localhost:8080/"
        },
        "id": "IOxew1BExnTT",
        "outputId": "770deeaf-32db-43fa-c0c9-2417b06b0ecd"
      },
      "execution_count": 5,
      "outputs": [
        {
          "output_type": "stream",
          "name": "stdout",
          "text": [
            "Bark!\n"
          ]
        }
      ]
    },
    {
      "cell_type": "code",
      "source": [
        "#2. Write a program to create an abstract class shape with a method area().Derive classes Circle and Rectangle from it and implement the area() method in both.\n",
        "\n",
        "from abc import ABC, abstractmethod\n",
        "import math\n",
        "\n",
        "# Abstract class\n",
        "class Shape(ABC):\n",
        "    @abstractmethod\n",
        "    def area(self):\n",
        "        pass\n",
        "\n",
        "# Circle class\n",
        "class Circle(Shape):\n",
        "    def __init__(self, radius):\n",
        "        self.radius = radius\n",
        "\n",
        "    def area(self):\n",
        "        return math.pi * self.radius ** 2\n",
        "\n",
        "# Rectangle class\n",
        "class Rectangle(Shape):\n",
        "    def __init__(self, width, height):\n",
        "        self.width = width\n",
        "        self.height = height\n",
        "\n",
        "    def area(self):\n",
        "        return self.width * self.height\n",
        "\n",
        "# Testing the classes\n",
        "c = Circle(5)\n",
        "print(f\"Area of Circle: {c.area()}\")\n",
        "\n",
        "r = Rectangle(4, 6)\n",
        "print(f\"Area of Rectangle: {r.area()}\")\n"
      ],
      "metadata": {
        "colab": {
          "base_uri": "https://localhost:8080/"
        },
        "id": "6eKeMFP7y-81",
        "outputId": "3449734a-0e4d-405d-eb59-fd3969f3325c"
      },
      "execution_count": 8,
      "outputs": [
        {
          "output_type": "stream",
          "name": "stdout",
          "text": [
            "Area of Circle: 78.53981633974483\n",
            "Area of Rectangle: 24\n"
          ]
        }
      ]
    },
    {
      "cell_type": "code",
      "source": [
        "#3. Implement a multi-level inheritance scenario where a class vehicle has an attribute type.Derive a class Car and further derive a class ElectricCar that adds a battery attribute.\n",
        "\n",
        "# Base class\n",
        "class Vehicle:\n",
        "    def __init__(self, vehicle_type):\n",
        "        self.vehicle_type = vehicle_type\n",
        "\n",
        "    def display_type(self):\n",
        "        print(f\"Vehicle Type: {self.vehicle_type}\")\n",
        "\n",
        "# Derived class from Vehicle\n",
        "class Car(Vehicle):\n",
        "    def __init__(self, vehicle_type, brand):\n",
        "        super().__init__(vehicle_type)\n",
        "        self.brand = brand\n",
        "\n",
        "    def display_brand(self):\n",
        "        print(f\"Car Brand: {self.brand}\")\n",
        "\n",
        "# Further derived class from Car\n",
        "class ElectricCar(Car):\n",
        "    def __init__(self, vehicle_type, brand, battery_capacity):\n",
        "        super().__init__(vehicle_type, brand)\n",
        "        self.battery_capacity = battery_capacity\n",
        "\n",
        "    def display_battery(self):\n",
        "        print(f\"Battery Capacity: {self.battery_capacity} kWh\")\n",
        "\n",
        "# Testing the classes\n",
        "ecar = ElectricCar(\"Four Wheeler\", \"Tesla\", 75)\n",
        "ecar.display_type()\n",
        "ecar.display_brand()\n",
        "ecar.display_battery()\n"
      ],
      "metadata": {
        "colab": {
          "base_uri": "https://localhost:8080/"
        },
        "id": "QPyfa06KzfrE",
        "outputId": "626e4a3c-f0da-44a8-86c4-1a9f0a7d4171"
      },
      "execution_count": 9,
      "outputs": [
        {
          "output_type": "stream",
          "name": "stdout",
          "text": [
            "Vehicle Type: Four Wheeler\n",
            "Car Brand: Tesla\n",
            "Battery Capacity: 75 kWh\n"
          ]
        }
      ]
    },
    {
      "cell_type": "code",
      "source": [
        "#4. Demonstrate polymorphism by creating a base class Bird with a method fly(). Create two derived classes sparrow and Penguin that override the fly() method.\n",
        "\n",
        "# Base class\n",
        "class Bird:\n",
        "    def fly(self):\n",
        "        print(\"The bird is flying.\")\n",
        "\n",
        "# Derived class 1\n",
        "class Sparrow(Bird):\n",
        "    def fly(self):\n",
        "        print(\"Sparrow flies high in the sky.\")\n",
        "\n",
        "# Derived class 2\n",
        "class Penguin(Bird):\n",
        "    def fly(self):\n",
        "        print(\"Penguins cannot fly, they swim.\")\n",
        "\n",
        "# Function to demonstrate polymorphism\n",
        "def bird_fly_test(bird):\n",
        "    bird.fly()\n",
        "\n",
        "# Testing polymorphism\n",
        "b1 = Sparrow()\n",
        "b2 = Penguin()\n",
        "\n",
        "bird_fly_test(b1)\n",
        "bird_fly_test(b2)\n"
      ],
      "metadata": {
        "colab": {
          "base_uri": "https://localhost:8080/"
        },
        "id": "-_H-9McE0xQ9",
        "outputId": "8d3d2645-c1a4-4371-c816-5508d287dd54"
      },
      "execution_count": 10,
      "outputs": [
        {
          "output_type": "stream",
          "name": "stdout",
          "text": [
            "Sparrow flies high in the sky.\n",
            "Penguins cannot fly, they swim.\n"
          ]
        }
      ]
    },
    {
      "cell_type": "code",
      "source": [
        "#5. Write a program to demonstrate encapsulation by creating a class BankAccount with private attributes balance and methods to deposit, withdraw, and check balance.\n",
        "\n",
        "class BankAccount:\n",
        "    def __init__(self, initial_balance=0):\n",
        "        self.__balance = initial_balance  # Private attribute\n",
        "\n",
        "    def deposit(self, amount):\n",
        "        if amount > 0:\n",
        "            self.__balance += amount\n",
        "            print(f\"Deposited: ${amount}\")\n",
        "        else:\n",
        "            print(\"Deposit amount must be positive.\")\n",
        "\n",
        "    def withdraw(self, amount):\n",
        "        if 0 < amount <= self.__balance:\n",
        "            self.__balance -= amount\n",
        "            print(f\"Withdrawn: ${amount}\")\n",
        "        else:\n",
        "            print(\"Insufficient balance or invalid amount.\")\n",
        "\n",
        "    def check_balance(self):\n",
        "        print(f\"Current Balance: ${self.__balance}\")\n",
        "\n",
        "# Testing the class\n",
        "account = BankAccount(100)\n",
        "account.check_balance()\n",
        "account.deposit(50)\n",
        "account.withdraw(30)\n",
        "account.check_balance()\n",
        "\n",
        "\n"
      ],
      "metadata": {
        "colab": {
          "base_uri": "https://localhost:8080/"
        },
        "id": "8YQV-E4B4YGB",
        "outputId": "c6d183c3-7fbf-4948-fb08-0d6ad5102c01"
      },
      "execution_count": 11,
      "outputs": [
        {
          "output_type": "stream",
          "name": "stdout",
          "text": [
            "Current Balance: $100\n",
            "Deposited: $50\n",
            "Withdrawn: $30\n",
            "Current Balance: $120\n"
          ]
        }
      ]
    },
    {
      "cell_type": "code",
      "source": [
        "#6. Demonstrate runtime polymorphism using a method play() in a base class Instrument. Derive classes Guitar and Piano that implement their own version of play().\n",
        "\n",
        " # Base class\n",
        "class Instrument:\n",
        "    def play(self):\n",
        "        print(\"The instrument is playing.\")\n",
        "\n",
        "# Derived class 1\n",
        "class Guitar(Instrument):\n",
        "    def play(self):\n",
        "        print(\"Guitar is strumming.\")\n",
        "\n",
        "# Derived class 2\n",
        "class Piano(Instrument):\n",
        "    def play(self):\n",
        "        print(\"Piano is playing keys.\")\n",
        "\n",
        "# Function to demonstrate runtime polymorphism\n",
        "def start_playing(instrument):\n",
        "    instrument.play()\n",
        "\n",
        "# Testing polymorphism\n",
        "i1 = Guitar()\n",
        "i2 = Piano()\n",
        "\n",
        "start_playing(i1)\n",
        "start_playing(i2)\n"
      ],
      "metadata": {
        "colab": {
          "base_uri": "https://localhost:8080/"
        },
        "id": "r-xRaZdW4r-q",
        "outputId": "8d6d527e-ef49-4bfe-b7ae-906f21ee1cf7"
      },
      "execution_count": 12,
      "outputs": [
        {
          "output_type": "stream",
          "name": "stdout",
          "text": [
            "Guitar is strumming.\n",
            "Piano is playing keys.\n"
          ]
        }
      ]
    },
    {
      "cell_type": "code",
      "source": [
        "#7.  Create a class MathOperations with a class method add_numbers() to add two numbers and a static method subtract_numbers() to subtract two numbers.\n",
        "\n",
        "class MathOperations:\n",
        "    @classmethod\n",
        "    def add_numbers(cls, a, b):\n",
        "        return a + b\n",
        "\n",
        "    @staticmethod\n",
        "    def subtract_numbers(a, b):\n",
        "        return a - b\n",
        "\n",
        "# Testing the methods\n",
        "print(\"Addition:\", MathOperations.add_numbers(10, 5))\n",
        "print(\"Subtraction:\", MathOperations.subtract_numbers(10, 5))\n"
      ],
      "metadata": {
        "colab": {
          "base_uri": "https://localhost:8080/"
        },
        "id": "qcTjmG7B49lv",
        "outputId": "97180ea3-d396-429c-80e3-c47b9cf4c2ac"
      },
      "execution_count": 13,
      "outputs": [
        {
          "output_type": "stream",
          "name": "stdout",
          "text": [
            "Addition: 15\n",
            "Subtraction: 5\n"
          ]
        }
      ]
    },
    {
      "cell_type": "code",
      "source": [
        "#8.  Implement a class Person with a class method to count the total number of persons created.\n",
        "\n",
        "class Person:\n",
        "    count = 0  # Class variable to track number of persons\n",
        "\n",
        "    def __init__(self, name):\n",
        "        self.name = name\n",
        "        Person.count += 1  # Increment count whenever a new person is created\n",
        "\n",
        "    @classmethod\n",
        "    def total_persons(cls):\n",
        "        return cls.count  # Return the current count\n",
        "\n",
        "# Creating Person instances\n",
        "p1 = Person(\"Alice\")\n",
        "p2 = Person(\"Bob\")\n",
        "p3 = Person(\"Charlie\")\n",
        "\n",
        "# Displaying total number of persons\n",
        "print(\"Total Persons Created:\", Person.total_persons())\n"
      ],
      "metadata": {
        "colab": {
          "base_uri": "https://localhost:8080/"
        },
        "id": "rexvS67u5fbY",
        "outputId": "5831075a-fa4e-4f83-8cee-8f55eacb4e31"
      },
      "execution_count": 14,
      "outputs": [
        {
          "output_type": "stream",
          "name": "stdout",
          "text": [
            "Total Persons Created: 3\n"
          ]
        }
      ]
    },
    {
      "cell_type": "code",
      "source": [
        "#9. Write a class Fraction with attributes numerator and denominator. Override the str method to display the fraction as \"numerator/denominator\".\n",
        "\n",
        "class Fraction:\n",
        "    def __init__(self, numerator, denominator):\n",
        "        self.numerator = numerator\n",
        "        self.denominator = denominator\n",
        "\n",
        "    def __str__(self):\n",
        "        return f\"{self.numerator}/{self.denominator}\"\n",
        "\n",
        "# Testing the class\n",
        "fraction1 = Fraction(3, 4)\n",
        "fraction2 = Fraction(5, 6)\n",
        "\n",
        "print(fraction1)\n",
        "print(fraction2)\n"
      ],
      "metadata": {
        "colab": {
          "base_uri": "https://localhost:8080/"
        },
        "id": "CGXR-opm5yu4",
        "outputId": "58e3796f-0404-4e7d-d9e8-2f325333d10b"
      },
      "execution_count": 15,
      "outputs": [
        {
          "output_type": "stream",
          "name": "stdout",
          "text": [
            "3/4\n",
            "5/6\n"
          ]
        }
      ]
    },
    {
      "cell_type": "code",
      "source": [
        "#10. 10. Demonstrate operator overloading by creating a class Vector and overriding the add method to add two vectors.\n",
        "\n",
        "class Vector:\n",
        "    def __init__(self, x, y):\n",
        "        self.x = x\n",
        "        self.y = y\n",
        "\n",
        "    # Overloading the + operator\n",
        "    def __add__(self, other):\n",
        "        if isinstance(other, Vector):\n",
        "            return Vector(self.x + other.x, self.y + other.y)\n",
        "        return NotImplemented\n",
        "\n",
        "    def __str__(self):\n",
        "        return f\"({self.x}, {self.y})\"\n",
        "\n",
        "# Testing the class and operator overloading\n",
        "v1 = Vector(3, 4)\n",
        "v2 = Vector(1, 2)\n",
        "\n",
        "v3 = v1 + v2  # This calls the __add__ method\n",
        "print(\"Result of Vector Addition:\", v3)\n"
      ],
      "metadata": {
        "colab": {
          "base_uri": "https://localhost:8080/"
        },
        "id": "mamF2eAd6EQ2",
        "outputId": "6a167dd6-b4e5-46ac-a0fc-d8bf3f691451"
      },
      "execution_count": 17,
      "outputs": [
        {
          "output_type": "stream",
          "name": "stdout",
          "text": [
            "Result of Vector Addition: (4, 6)\n"
          ]
        }
      ]
    },
    {
      "cell_type": "code",
      "source": [
        "#11. 11. Create a class Person with attributes name and age. Add a method greet() that prints \"Hello, my name is {name} and I am {age} years old.\"\n",
        "\n",
        "class Person:\n",
        "    def __init__(self, name, age):\n",
        "        self.name = name\n",
        "        self.age = age\n",
        "\n",
        "    def greet(self):\n",
        "        print(f\"Hello, my name is {self.name} and I am {self.age} years old.\")\n",
        "\n",
        "# Testing the class\n",
        "person1 = Person(\"Ajay\", 30)\n",
        "person2 = Person(\"Gijyashu\", 25)\n",
        "\n",
        "person1.greet()\n",
        "person2.greet()\n"
      ],
      "metadata": {
        "colab": {
          "base_uri": "https://localhost:8080/"
        },
        "id": "MAD8uwQU6Qnv",
        "outputId": "eed7cac7-ed46-4dff-a057-4a7f28ae831f"
      },
      "execution_count": 18,
      "outputs": [
        {
          "output_type": "stream",
          "name": "stdout",
          "text": [
            "Hello, my name is Ajay and I am 30 years old.\n",
            "Hello, my name is Gijyashu and I am 25 years old.\n"
          ]
        }
      ]
    },
    {
      "cell_type": "code",
      "source": [
        "#12.Implement a class Student with attributes name and grades. Create a method average_grade() to compute the average of the grades.\n",
        "\n",
        "class Student:\n",
        "    def __init__(self, name, grades):\n",
        "        self.name = name\n",
        "        self.grades = grades  # A list of grades\n",
        "\n",
        "    def average_grade(self):\n",
        "        if self.grades:  # Check if grades list is not empty\n",
        "            return sum(self.grades) / len(self.grades)\n",
        "        return 0  # Return 0 if there are no grades\n",
        "\n",
        "# Testing the class\n",
        "student1 = Student(\"Alice\", [85, 90, 78, 92])\n",
        "student2 = Student(\"Bob\", [80, 70, 88, 95])\n",
        "\n",
        "print(f\"{student1.name}'s average grade: {student1.average_grade():.2f}\")\n",
        "print(f\"{student2.name}'s average grade: {student2.average_grade():.2f}\")\n"
      ],
      "metadata": {
        "colab": {
          "base_uri": "https://localhost:8080/"
        },
        "id": "Gx2SyVWY6v6Q",
        "outputId": "72d76575-95c1-45cd-b1c1-5b9d106c5335"
      },
      "execution_count": 19,
      "outputs": [
        {
          "output_type": "stream",
          "name": "stdout",
          "text": [
            "Alice's average grade: 86.25\n",
            "Bob's average grade: 83.25\n"
          ]
        }
      ]
    },
    {
      "cell_type": "code",
      "source": [
        "#13.  Create a class Rectangle with methods set_dimensions() to set the dimensions and area() to calculate the area.\n",
        "\n",
        "class Rectangle:\n",
        "    def __init__(self):\n",
        "        self.length = 0\n",
        "        self.width = 0\n",
        "\n",
        "    # Method to set the dimensions of the rectangle\n",
        "    def set_dimensions(self, length, width):\n",
        "        self.length = length\n",
        "        self.width = width\n",
        "\n",
        "    # Method to calculate the area of the rectangle\n",
        "    def area(self):\n",
        "        return self.length * self.width\n",
        "\n",
        "# Testing the class\n",
        "rectangle1 = Rectangle()\n",
        "rectangle1.set_dimensions(5, 3)\n",
        "print(f\"Area of Rectangle 1: {rectangle1.area()}\")\n",
        "\n",
        "rectangle2 = Rectangle()\n",
        "rectangle2.set_dimensions(7, 4)\n",
        "print(f\"Area of Rectangle 2: {rectangle2.area()}\")\n"
      ],
      "metadata": {
        "colab": {
          "base_uri": "https://localhost:8080/"
        },
        "id": "ZAx4ryCY7GNH",
        "outputId": "700f434c-b2b2-489e-ea52-1293d332271d"
      },
      "execution_count": 20,
      "outputs": [
        {
          "output_type": "stream",
          "name": "stdout",
          "text": [
            "Area of Rectangle 1: 15\n",
            "Area of Rectangle 2: 28\n"
          ]
        }
      ]
    },
    {
      "cell_type": "code",
      "source": [
        "#14. 14. Create a class Employee with a method calculate_salary() that computes the salary based on hours worked and hourly rate. Create a derived class Manager that adds a bonus to the salary.\n",
        "\n",
        "class Employee:\n",
        "    def __init__(self, name, hours_worked, hourly_rate):\n",
        "        self.name = name\n",
        "        self.hours_worked = hours_worked\n",
        "        self.hourly_rate = hourly_rate\n",
        "\n",
        "    def calculate_salary(self):\n",
        "        return self.hours_worked * self.hourly_rate\n",
        "\n",
        "# Derived class Manager\n",
        "class Manager(Employee):\n",
        "    def __init__(self, name, hours_worked, hourly_rate, bonus):\n",
        "        super().__init__(name, hours_worked, hourly_rate)\n",
        "        self.bonus = bonus\n",
        "\n",
        "    def calculate_salary(self):\n",
        "        # Calculate salary with bonus for Manager\n",
        "        base_salary = super().calculate_salary()\n",
        "        return base_salary + self.bonus\n",
        "\n",
        "# Testing the classes\n",
        "employee = Employee(\"Ajay\", 40, 20)\n",
        "manager = Manager(\"Piyush\", 40, 25, 500)\n",
        "\n",
        "print(f\"{employee.name}'s Salary: ${employee.calculate_salary()}\")\n",
        "print(f\"{manager.name}'s Salary: ${manager.calculate_salary()}\")\n"
      ],
      "metadata": {
        "colab": {
          "base_uri": "https://localhost:8080/"
        },
        "id": "Ah7blc9O7WMx",
        "outputId": "f346c8da-83bc-4117-91f4-2794cd34bcba"
      },
      "execution_count": 22,
      "outputs": [
        {
          "output_type": "stream",
          "name": "stdout",
          "text": [
            "Ajay's Salary: $800\n",
            "Piyush's Salary: $1500\n"
          ]
        }
      ]
    },
    {
      "cell_type": "code",
      "source": [
        "#15.Create a class Product with attributes name, price, and quantity. Implement a method total_price() that calculates the total price of the product.\n",
        "\n",
        "class Product:\n",
        "    def __init__(self, name, price, quantity):\n",
        "        self.name = name\n",
        "        self.price = price\n",
        "        self.quantity = quantity\n",
        "\n",
        "    def total_price(self):\n",
        "        return self.price * self.quantity\n",
        "\n",
        "# Testing the class\n",
        "product1 = Product(\"Laptop\", 1000, 3)\n",
        "product2 = Product(\"Phone\", 500, 5)\n",
        "\n",
        "print(f\"Total price of {product1.name}: ${product1.total_price()}\")\n",
        "print(f\"Total price of {product2.name}: ${product2.total_price()}\")\n",
        "\n"
      ],
      "metadata": {
        "colab": {
          "base_uri": "https://localhost:8080/"
        },
        "id": "HxPZ3tB17ltm",
        "outputId": "d513a83d-347c-4ea1-d374-1fe461eea7ce"
      },
      "execution_count": 23,
      "outputs": [
        {
          "output_type": "stream",
          "name": "stdout",
          "text": [
            "Total price of Laptop: $3000\n",
            "Total price of Phone: $2500\n"
          ]
        }
      ]
    },
    {
      "cell_type": "code",
      "source": [
        "#16. Create a class Animal with an abstract method sound(). Create two derived classes Cow and Sheep that implement the sound() method.\n",
        "\n",
        "from abc import ABC, abstractmethod\n",
        "\n",
        "# Abstract base class\n",
        "class Animal(ABC):\n",
        "    @abstractmethod\n",
        "    def sound(self):\n",
        "        pass\n",
        "\n",
        "# Derived class Cow\n",
        "class Cow(Animal):\n",
        "    def sound(self):\n",
        "        return \"Moo\"\n",
        "\n",
        "# Derived class Sheep\n",
        "class Sheep(Animal):\n",
        "    def sound(self):\n",
        "        return \"Baa\"\n",
        "\n",
        "# Testing the classes\n",
        "cow = Cow()\n",
        "sheep = Sheep()\n",
        "\n",
        "print(f\"Cow makes sound: {cow.sound()}\")\n",
        "print(f\"Sheep makes sound: {sheep.sound()}\")\n"
      ],
      "metadata": {
        "colab": {
          "base_uri": "https://localhost:8080/"
        },
        "id": "jEGE60ij7-Z8",
        "outputId": "80814699-bfc2-4d86-d006-e65bd826c1ba"
      },
      "execution_count": 24,
      "outputs": [
        {
          "output_type": "stream",
          "name": "stdout",
          "text": [
            "Cow makes sound: Moo\n",
            "Sheep makes sound: Baa\n"
          ]
        }
      ]
    },
    {
      "cell_type": "code",
      "source": [
        "#17. Create a class Book with attributes title, author, and year_published. Add a method get_book_info() that returns a formatted string with the book's details.\n",
        "\n",
        "class Book:\n",
        "    def __init__(self, title, author, year_published):\n",
        "        self.title = title\n",
        "        self.author = author\n",
        "        self.year_published = year_published\n",
        "\n",
        "    def get_book_info(self):\n",
        "        return f\"Title: {self.title}\\nAuthor: {self.author}\\nYear Published: {self.year_published}\"\n",
        "\n",
        "# Testing the class\n",
        "book1 = Book(\"Harry Potter\", \"Jk Rowling\", 1980)\n",
        "book2 = Book(\"1984\", \"George Orwell\", 1949)\n",
        "\n",
        "print(book1.get_book_info())\n",
        "print(book2.get_book_info())\n"
      ],
      "metadata": {
        "colab": {
          "base_uri": "https://localhost:8080/"
        },
        "id": "J32jIM9R8RBC",
        "outputId": "ee2f5b1b-f02a-4751-8c2c-1e1c7aa0a188"
      },
      "execution_count": 26,
      "outputs": [
        {
          "output_type": "stream",
          "name": "stdout",
          "text": [
            "Title: Harry Potter\n",
            "Author: Jk Rowling\n",
            "Year Published: 1980\n",
            "Title: 1984\n",
            "Author: George Orwell\n",
            "Year Published: 1949\n"
          ]
        }
      ]
    },
    {
      "cell_type": "code",
      "source": [
        "#18.  Create a class House with attributes address and price. Create a derived class Mansion that adds an attribute number_of_rooms.\n",
        "\n",
        "# Base class House\n",
        "class House:\n",
        "    def __init__(self, address, price):\n",
        "        self.address = address\n",
        "        self.price = price\n",
        "\n",
        "    def get_info(self):\n",
        "        return f\"Address: {self.address}\\nPrice: ${self.price}\"\n",
        "\n",
        "# Derived class Mansion\n",
        "class Mansion(House):\n",
        "    def __init__(self, address, price, number_of_rooms):\n",
        "        super().__init__(address, price)\n",
        "        self.number_of_rooms = number_of_rooms\n",
        "\n",
        "    def get_info(self):\n",
        "        house_info = super().get_info()\n",
        "        return f\"{house_info}\\nNumber of rooms: {self.number_of_rooms}\"\n",
        "\n",
        "# Testing the classes\n",
        "house1 = House(\"1234 Rajendra St\", 250000)\n",
        "mansion1 = Mansion(\"5678 Piyush Dr\", 5000000, 10)\n",
        "\n",
        "print(\"House Information:\")\n",
        "print(house1.get_info()\n",
        "\n",
        "print(\"\\nMansion Information:\")\n",
        "print(mansion1.get_info())\n",
        "\n"
      ],
      "metadata": {
        "colab": {
          "base_uri": "https://localhost:8080/"
        },
        "id": "u2qR91py8wDS",
        "outputId": "acac585c-3500-44ac-c656-f3f43f8e7d2b"
      },
      "execution_count": 27,
      "outputs": [
        {
          "output_type": "stream",
          "name": "stdout",
          "text": [
            "House Information:\n",
            "Address: 1234 Rajendra St\n",
            "Price: $250000\n",
            "\n",
            "Mansion Information:\n",
            "Address: 5678 Piyush Dr\n",
            "Price: $5000000\n",
            "Number of rooms: 10\n"
          ]
        }
      ]
    },
    {
      "cell_type": "code",
      "source": [],
      "metadata": {
        "id": "pBzQoJPt9MT7"
      },
      "execution_count": null,
      "outputs": []
    }
  ]
}